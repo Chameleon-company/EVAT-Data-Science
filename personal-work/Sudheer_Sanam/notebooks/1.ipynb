{
 "cells": [
  {
   "cell_type": "code",
   "execution_count": 5,
   "id": "fdb85191",
   "metadata": {},
   "outputs": [
    {
     "name": "stdout",
     "output_type": "stream",
     "text": [
      "Index(['sessionId', 'kwhTotal', 'dollars', 'created', 'ended', 'startTime',\n",
      "       'endTime', 'chargeTimeHrs', 'weekday', 'platform', 'distance', 'userId',\n",
      "       'stationId', 'locationId', 'managerVehicle', 'facilityType', 'Mon',\n",
      "       'Tues', 'Wed', 'Thurs', 'Fri', 'Sat', 'Sun', 'reportedZip'],\n",
      "      dtype='object')\n",
      "   sessionId  kwhTotal  dollars              created                ended  \\\n",
      "0    1366563      7.78     0.00  0014-11-18 15:40:26  0014-11-18 17:11:04   \n",
      "1    3075723      9.74     0.00  0014-11-19 17:40:26  0014-11-19 19:51:04   \n",
      "2    4228788      6.76     0.58  0014-11-21 12:05:46  0014-11-21 16:46:04   \n",
      "3    3173284      6.17     0.00  0014-12-03 19:16:12  0014-12-03 21:02:18   \n",
      "4    3266500      0.93     0.00  0014-12-11 20:56:11  0014-12-11 21:14:06   \n",
      "\n",
      "   startTime  endTime  chargeTimeHrs weekday platform  ...  managerVehicle  \\\n",
      "0         15       17       1.510556     Tue  android  ...               0   \n",
      "1         17       19       2.177222     Wed  android  ...               0   \n",
      "2         12       16       4.671667     Fri  android  ...               0   \n",
      "3         19       21       1.768333     Wed  android  ...               0   \n",
      "4         20       21       0.298611     Thu  android  ...               0   \n",
      "\n",
      "   facilityType  Mon  Tues  Wed  Thurs  Fri  Sat  Sun  reportedZip  \n",
      "0             3    0     1    0      0    0    0    0            0  \n",
      "1             3    0     0    1      0    0    0    0            0  \n",
      "2             3    0     0    0      0    1    0    0            0  \n",
      "3             3    0     0    1      0    0    0    0            0  \n",
      "4             3    0     0    0      1    0    0    0            0  \n",
      "\n",
      "[5 rows x 24 columns]\n"
     ]
    }
   ],
   "source": [
    "import pandas as pd\n",
    "df_sessions = pd.read_csv(\"station_data_dataverse.csv\")\n",
    "print(df_sessions.columns)\n",
    "print(df_sessions.head(5))\n"
   ]
  }
 ],
 "metadata": {
  "kernelspec": {
   "display_name": "Python 3",
   "language": "python",
   "name": "python3"
  },
  "language_info": {
   "codemirror_mode": {
    "name": "ipython",
    "version": 3
   },
   "file_extension": ".py",
   "mimetype": "text/x-python",
   "name": "python",
   "nbconvert_exporter": "python",
   "pygments_lexer": "ipython3",
   "version": "3.13.5"
  }
 },
 "nbformat": 4,
 "nbformat_minor": 5
}
