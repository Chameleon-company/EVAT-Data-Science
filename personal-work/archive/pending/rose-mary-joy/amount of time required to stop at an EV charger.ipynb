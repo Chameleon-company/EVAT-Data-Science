{
  "nbformat": 4,
  "nbformat_minor": 0,
  "metadata": {
    "colab": {
      "provenance": []
    },
    "kernelspec": {
      "name": "python3",
      "display_name": "Python 3"
    },
    "language_info": {
      "name": "python"
    }
  },
  "cells": [
    {
      "cell_type": "code",
      "execution_count": 2,
      "metadata": {
        "colab": {
          "base_uri": "https://localhost:8080/"
        },
        "id": "POiXQLs03Mig",
        "outputId": "0c7010e0-f053-4dbd-eca7-e53687524e31"
      },
      "outputs": [
        {
          "output_type": "stream",
          "name": "stdout",
          "text": [
            "Enter the vehicle model: Audi e-tron\n",
            "Enter the current charge percentage: 20\n",
            "Enter the desired charge percentage: 80\n",
            "Enter the charger ID: node/1189771948\n",
            "Enter the temperature (optional, leave blank for default): 25\n",
            "{'Vehicle Model': 'Audi e-tron', 'Current Charge (%)': 20.0, 'Desired Charge (%)': 80.0, 'Charger Power Output (kW)': 250.0, 'Effective Charger Power (kW)': 150, 'Charger Type': 'DC', 'Charging Efficiency': 0.9, 'Estimated Charging Time (minutes)': 25.33}\n"
          ]
        }
      ],
      "source": [
        "import pandas as pd\n",
        "\n",
        "# Load the datasets\n",
        "ev_data = pd.read_csv('filtered_charging_stations_data.csv')\n",
        "charger_data = pd.read_csv('cleaned_charging_station.csv')\n",
        "\n",
        "# Convert the ID column to strings (if necessary)\n",
        "charger_data['ID'] = charger_data['ID'].astype(str)\n",
        "\n",
        "# Function to calculate charging time\n",
        "def calculate_charging_time(vehicle_model, current_charge, desired_charge, charger_id, temperature=None):\n",
        "    # Filter the vehicle data based on the model\n",
        "    vehicle_info = ev_data[ev_data['Model'].str.contains(vehicle_model, case=False, na=False)]\n",
        "\n",
        "    if vehicle_info.empty:\n",
        "        return f\"Vehicle model '{vehicle_model}' not found in the dataset.\"\n",
        "\n",
        "    # Get relevant vehicle details\n",
        "    battery_capacity_kwh = vehicle_info['Battery: kWh'].values[0]\n",
        "    ac_charge_rate = vehicle_info['AC Charge Rate (kW)'].values[0]\n",
        "    dc_charge_rate = vehicle_info['DC Charge Rate (kW)'].values[0]\n",
        "\n",
        "    # Ensure that charger_id is in the correct format (string)\n",
        "    charger_id = str(charger_id)\n",
        "\n",
        "    # Find the charger information based on charger_id\n",
        "    charger_info = charger_data[charger_data['ID'] == charger_id]\n",
        "\n",
        "    if charger_info.empty:\n",
        "        return f\"Charger ID '{charger_id}' not found in the dataset.\"\n",
        "\n",
        "    charger_power_output = charger_info['Power (kW)'].values[0]\n",
        "    charger_type = charger_info['Connection Type'].values[0]\n",
        "\n",
        "    # Use the AC rate or DC rate depending on the charger type\n",
        "    if charger_type == 'AC':\n",
        "        effective_charger_power = min(charger_power_output, ac_charge_rate)\n",
        "    else:\n",
        "        effective_charger_power = min(charger_power_output, dc_charge_rate)\n",
        "\n",
        "    # Optional: Adjust efficiency based on environmental conditions\n",
        "    charging_efficiency = 0.9  # Default value\n",
        "\n",
        "    if charger_type == 'AC':\n",
        "        charging_efficiency -= 0.05  # AC chargers are typically less efficient\n",
        "\n",
        "    if temperature is not None:\n",
        "        if temperature < 0:\n",
        "            charging_efficiency -= 0.1  # Decrease efficiency in cold\n",
        "        elif temperature > 35:\n",
        "            charging_efficiency -= 0.05  # Decrease efficiency in heat\n",
        "\n",
        "    # Calculate the percentage of battery needed to be charged\n",
        "    charge_needed_percentage = desired_charge - current_charge\n",
        "    if charge_needed_percentage <= 0:\n",
        "        return f\"Current charge is already above or equal to the desired charge level.\"\n",
        "\n",
        "    # Calculate the amount of energy (kWh) required to charge the battery to the desired level\n",
        "    charge_needed_kwh = (charge_needed_percentage / 100) * battery_capacity_kwh\n",
        "\n",
        "    # Adjust the energy required based on the charging efficiency\n",
        "    effective_energy_needed_kwh = charge_needed_kwh / charging_efficiency\n",
        "\n",
        "    # Calculate the time required to charge (in hours)\n",
        "    charging_time_hours = effective_energy_needed_kwh / effective_charger_power\n",
        "\n",
        "    # Convert charging time to minutes\n",
        "    charging_time_minutes = charging_time_hours * 60\n",
        "\n",
        "    return {\n",
        "        'Vehicle Model': vehicle_model,\n",
        "        'Current Charge (%)': current_charge,\n",
        "        'Desired Charge (%)': desired_charge,\n",
        "        'Charger Power Output (kW)': charger_power_output,\n",
        "        'Effective Charger Power (kW)': effective_charger_power,  # Capped by max charge rate\n",
        "        'Charger Type': charger_type,\n",
        "        'Charging Efficiency': round(charging_efficiency, 2),\n",
        "        'Estimated Charging Time (minutes)': round(charging_time_minutes, 2)\n",
        "    }\n",
        "\n",
        "# Get user inputs\n",
        "vehicle_model = input(\"Enter the vehicle model: \")\n",
        "current_charge = float(input(\"Enter the current charge percentage: \"))\n",
        "desired_charge = float(input(\"Enter the desired charge percentage: \"))\n",
        "charger_id = input(\"Enter the charger ID: \")\n",
        "temperature = float(input(\"Enter the temperature (optional, leave blank for default): \") or \"25\")  # Default to 25 if left blank\n",
        "\n",
        "# Calculate and display the charging time\n",
        "result = calculate_charging_time(vehicle_model, current_charge, desired_charge, charger_id, temperature)\n",
        "print(result)\n"
      ]
    }
  ]
}