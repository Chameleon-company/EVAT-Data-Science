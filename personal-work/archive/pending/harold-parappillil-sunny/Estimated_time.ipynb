{
  "nbformat": 4,
  "nbformat_minor": 0,
  "metadata": {
    "colab": {
      "provenance": []
    },
    "kernelspec": {
      "name": "python3",
      "display_name": "Python 3"
    },
    "language_info": {
      "name": "python"
    }
  },
  "cells": [
    {
      "cell_type": "code",
      "execution_count": 1,
      "metadata": {
        "colab": {
          "base_uri": "https://localhost:8080/"
        },
        "id": "DHRjMqo2BuhS",
        "outputId": "da253862-448c-4a0a-b35d-e47253d73f3b"
      },
      "outputs": [
        {
          "output_type": "stream",
          "name": "stdout",
          "text": [
            "Estimated charging time: 0.89 hours\n"
          ]
        }
      ],
      "source": [
        "def calculate_charging_time(battery_capacity_kwh, current_battery_level_kwh, charge_rate_acceptance_kw,\n",
        "                            charger_power_output_kw, charger_type, efficiency, desired_charge_level_kwh):\n",
        "    \"\"\"\n",
        "    Calculate the time required to charge an EV at a charger.\n",
        "\n",
        "    Parameters:\n",
        "    - battery_capacity_kwh: Total capacity of the vehicle's battery (kWh)\n",
        "    - current_battery_level_kwh: Current charge level of the battery (kWh)\n",
        "    - charge_rate_acceptance_kw: Maximum rate at which the vehicle can accept a charge (kW)\n",
        "    - charger_power_output_kw: The power output capacity of the charger (kW)\n",
        "    - charger_type: Type of charger (AC/DC)\n",
        "    - efficiency: Charging efficiency (%)\n",
        "    - desired_charge_level_kwh: The target charge level you want to reach (kWh)\n",
        "\n",
        "    Returns:\n",
        "    - charging_time_hours: The time required to reach the desired charge level (hours)\n",
        "    \"\"\"\n",
        "\n",
        "    # Calculate the amount of energy needed to reach the desired charge level\n",
        "    energy_needed_kwh = desired_charge_level_kwh - current_battery_level_kwh\n",
        "\n",
        "    if energy_needed_kwh <= 0:\n",
        "        return 0  # No charging required if the desired level is already met or exceeded\n",
        "\n",
        "    # Determine the effective charge rate considering the vehicle's acceptance rate and charger power output\n",
        "    effective_charge_rate_kw = min(charge_rate_acceptance_kw, charger_power_output_kw) * (efficiency / 100)\n",
        "\n",
        "    if effective_charge_rate_kw <= 0:\n",
        "        raise ValueError(\"Effective charge rate must be greater than zero.\")\n",
        "\n",
        "    # Calculate charging time required\n",
        "    charging_time_hours = energy_needed_kwh / effective_charge_rate_kw\n",
        "\n",
        "    return charging_time_hours\n",
        "\n",
        "# Example usage:\n",
        "battery_capacity_kwh = 75  # kWh\n",
        "current_battery_level_kwh = 20  # kWh\n",
        "charge_rate_acceptance_kw = 50  # kW\n",
        "charger_power_output_kw = 100  # kW\n",
        "charger_type = \"DC\"  # AC or DC\n",
        "efficiency = 90  # %\n",
        "desired_charge_level_kwh = 60  # kWh\n",
        "\n",
        "charging_time = calculate_charging_time(battery_capacity_kwh, current_battery_level_kwh, charge_rate_acceptance_kw,\n",
        "                                        charger_power_output_kw, charger_type, efficiency, desired_charge_level_kwh)\n",
        "\n",
        "print(f\"Estimated charging time: {charging_time:.2f} hours\")\n"
      ]
    }
  ]
}