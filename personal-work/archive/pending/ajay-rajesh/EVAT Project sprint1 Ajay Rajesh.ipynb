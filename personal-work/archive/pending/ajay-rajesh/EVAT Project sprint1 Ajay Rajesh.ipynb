{
  "nbformat": 4,
  "nbformat_minor": 0,
  "metadata": {
    "colab": {
      "provenance": []
    },
    "kernelspec": {
      "name": "python3",
      "display_name": "Python 3"
    },
    "language_info": {
      "name": "python"
    }
  },
  "cells": [
    {
      "cell_type": "code",
      "execution_count": 5,
      "metadata": {
        "colab": {
          "base_uri": "https://localhost:8080/"
        },
        "id": "NKJgSJv1L1_o",
        "outputId": "da1f7475-9122-4f2e-a7c4-11a17ceb709c"
      },
      "outputs": [
        {
          "output_type": "stream",
          "name": "stdout",
          "text": [
            "No suitable charging stations found.\n",
            "No suitable charging stations found.\n"
          ]
        }
      ],
      "source": [
        "import requests\n",
        "from geopy.distance import geodesic\n",
        "\n",
        "# Replace with your actual Google Maps API key\n",
        "GOOGLE_MAPS_API_KEY = 'YOUR_NEW_GOOGLE_MAPS_API_KEY'\n",
        "\n",
        "def get_route(origin, destination):\n",
        "    \"\"\"Get the route from origin to destination using Google Maps API.\"\"\"\n",
        "    url = f\"https://maps.googleapis.com/maps/api/directions/json?origin={origin}&destination={destination}&key={GOOGLE_MAPS_API_KEY}\"\n",
        "    response = requests.get(url)\n",
        "    route = response.json()\n",
        "\n",
        "    # Check if the route contains any routes\n",
        "    if 'routes' not in route or len(route['routes']) == 0:\n",
        "        print(\"Error: No routes found.\")\n",
        "        print(\"Response from API:\", route)\n",
        "        return None\n",
        "\n",
        "    return route\n",
        "\n",
        "def get_charging_stations(location, radius=50000):\n",
        "    \"\"\"Get EV charging stations near a given location using Google Maps Places API.\"\"\"\n",
        "    url = f\"https://maps.googleapis.com/maps/api/place/nearbysearch/json?location={location}&radius={radius}&type=charging_station&key={GOOGLE_MAPS_API_KEY}\"\n",
        "    response = requests.get(url)\n",
        "    stations = response.json().get('results', [])\n",
        "    return stations\n",
        "\n",
        "def calculate_distance(origin, destination):\n",
        "    \"\"\"Calculate driving distance between two points using Google Maps API.\"\"\"\n",
        "    url = f\"https://maps.googleapis.com/maps/api/directions/json?origin={origin}&destination={destination}&key={GOOGLE_MAPS_API_KEY}\"\n",
        "    response = requests.get(url)\n",
        "    directions = response.json()\n",
        "\n",
        "    if 'routes' in directions and len(directions['routes']) > 0:\n",
        "        distance = directions['routes'][0]['legs'][0]['distance']['value']  # in meters\n",
        "        return distance / 1000  # convert to kilometers\n",
        "    else:\n",
        "        print(\"Error: Could not calculate distance.\")\n",
        "        return None\n",
        "\n",
        "def find_nearest_station(origin, destination, max_range, user_filters=None):\n",
        "    \"\"\"Find the nearest charging station within range and calculate distance to destination.\"\"\"\n",
        "    stations = get_charging_stations(origin, radius=max_range*1000)\n",
        "\n",
        "    if user_filters:\n",
        "        # Apply user-defined filters (e.g., station type, available chargers)\n",
        "        stations = [station for station in stations if user_filters(station)]\n",
        "\n",
        "    closest_station = None\n",
        "    shortest_distance_to_destination = float('inf')\n",
        "\n",
        "    for station in stations:\n",
        "        station_location = f\"{station['geometry']['location']['lat']},{station['geometry']['location']['lng']}\"\n",
        "        distance_to_destination = calculate_distance(station_location, destination)\n",
        "\n",
        "        if distance_to_destination is not None and distance_to_destination < shortest_distance_to_destination:\n",
        "            shortest_distance_to_destination = distance_to_destination\n",
        "            closest_station = station\n",
        "\n",
        "    if closest_station:\n",
        "        return closest_station, shortest_distance_to_destination\n",
        "    else:\n",
        "        print(\"No suitable charging stations found.\")\n",
        "        return None, None\n",
        "\n",
        "# Example usage\n",
        "origin = \"37.7749,-122.4194\"  # San Francisco, CA\n",
        "destination = \"34.0522,-118.2437\"  # Los Angeles, CA\n",
        "max_range = 400  # km\n",
        "\n",
        "closest_station, distance_to_destination = find_nearest_station(origin, destination, max_range)\n",
        "if closest_station:\n",
        "    print(f\"Closest charging station: {closest_station['name']}\")\n",
        "    print(f\"Distance to destination from station: {distance_to_destination} km\")\n",
        "else:\n",
        "    print(\"No suitable charging stations found.\")\n"
      ]
    }
  ]
}