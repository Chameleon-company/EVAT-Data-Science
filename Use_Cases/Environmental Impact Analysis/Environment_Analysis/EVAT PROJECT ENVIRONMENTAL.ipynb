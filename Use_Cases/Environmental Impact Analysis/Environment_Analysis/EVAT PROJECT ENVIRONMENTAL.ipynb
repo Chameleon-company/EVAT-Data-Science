{
 "cells": [
  {
   "cell_type": "markdown",
   "id": "a3c2d4d9",
   "metadata": {},
   "source": [
    "# SIT764: EVAT PROJECT - ENVIRONMENT ANALYSIS\n",
    "\n",
    "### Name: Burhanuddin Ujjainwala\n",
    "### Student Number: s224802775\n",
    "### Email: s224802775@deakin.edu.au"
   ]
  },
  {
   "cell_type": "markdown",
   "id": "2d013453-d882-4a54-a01e-d05e0fcc0d14",
   "metadata": {},
   "source": [
    "# Summary"
   ]
  },
  {
   "cell_type": "markdown",
   "id": "2e0130e8-ede0-472e-9c06-4e63976f414f",
   "metadata": {},
   "source": [
    "This program estimates and compares carbon-dioxide (CO₂) savings when switching from internal-combustion vehicles to electric vehicles in Victoria, Australia. It begins by calculating the state’s electricity-grid emission factor and computing the grams of CO₂ emitted per kilometre for each EV. It then establishes baseline CO₂ emissions for petrol and diesel cars and combines both datasets to create every possible EV–ICE pair. Using these data, the script builds and evaluates multiple machine-learning models—linear regression, random forest, and gradient boosting—to predict potential CO₂ savings. Finally, it visualizes trends by EV brand, body style, release year, and fuel type replaced, helping identify where electric adoption delivers the greatest environmental benefit."
   ]
  },
  {
   "cell_type": "markdown",
   "id": "9eb89ac2",
   "metadata": {},
   "source": [
    "# Load Data"
   ]
  },
  {
   "cell_type": "markdown",
   "id": "f85db721-181b-4f71-8763-2aacf34d9df6",
   "metadata": {},
   "source": [
    "All required libraries are imported for data handling, modelling, and plotting."
   ]
  },
  {
   "cell_type": "code",
   "execution_count": 99,
   "id": "6596328f",
   "metadata": {},
   "outputs": [],
   "source": [
    "import pandas as pd\n",
    "import numpy as np\n",
    "from sklearn.model_selection import train_test_split, cross_val_score, KFold\n",
    "from sklearn.metrics import mean_absolute_error, make_scorer\n",
    "from sklearn.preprocessing import OneHotEncoder\n",
    "from sklearn.compose import ColumnTransformer\n",
    "from sklearn.pipeline import Pipeline\n",
    "from sklearn.linear_model import LinearRegression\n",
    "from sklearn.ensemble import RandomForestRegressor\n",
    "from sklearn.ensemble import GradientBoostingRegressor\n",
    "from sklearn.metrics import r2_score, mean_absolute_error\n",
    "import matplotlib.pyplot as plt\n",
    "import warnings\n",
    "warnings.filterwarnings(\"ignore\")\n",
    "\n",
    "pd.set_option(\"display.max_columns\", None)\n",
    "\n",
    "# Load datasets\n",
    "electric = pd.read_csv(\"C:/Users/ASUS/Downloads/project/Pure electric consumption.csv\", delimiter=\",\")\n",
    "diesel = pd.read_csv(\"C:/Users/ASUS/Downloads/project/Diesel consumption.csv\", delimiter=\",\")\n",
    "petrol98 = pd.read_csv(\"C:/Users/ASUS/Downloads/project/petrol98RON consumption.csv\", delimiter=\",\")\n",
    "petrol95 = pd.read_csv(\"C:/Users/ASUS/Downloads/project/petrol95RON consumption.csv\", delimiter=\",\")\n",
    "petrol91 = pd.read_csv(\"C:/Users/ASUS/Downloads/project/petrol91RON consumption.csv\", delimiter=\",\")\n",
    "greenhouse = pd.read_csv(\"C:/Users/ASUS/Downloads/project/greenhouse-and-energy-information-designated-generation-facility-2023-24-0.csv\", delimiter=\",\")\n"
   ]
  },
  {
   "cell_type": "markdown",
   "id": "b5c2c07a",
   "metadata": {},
   "source": [
    "# Data Wrangling"
   ]
  },
  {
   "cell_type": "code",
   "execution_count": 2,
   "id": "bdc6fa76",
   "metadata": {},
   "outputs": [
    {
     "name": "stdout",
     "output_type": "stream",
     "text": [
      "       ModelReleaseYear  EngineDisplacement  FwdGearsNo  SideDoorNo  \\\n",
      "count         200.00000          200.000000  200.000000  200.000000   \n",
      "mean         2023.18500            0.008000    0.985000    3.920000   \n",
      "std             1.67175            0.113137    0.354121    0.379897   \n",
      "min          2016.00000            0.000000    0.000000    2.000000   \n",
      "25%          2022.00000            0.000000    1.000000    4.000000   \n",
      "50%          2024.00000            0.000000    1.000000    4.000000   \n",
      "75%          2024.00000            0.000000    1.000000    4.000000   \n",
      "max          2025.00000            1.600000    2.000000    4.000000   \n",
      "\n",
      "       SeatingCapacity  DrivingWheelsNo  CO2EmissionsCombined  \\\n",
      "count       200.000000       200.000000                 200.0   \n",
      "mean          4.890000         2.620000                   0.0   \n",
      "std           0.499145         0.927308                   0.0   \n",
      "min           2.000000         2.000000                   0.0   \n",
      "25%           5.000000         2.000000                   0.0   \n",
      "50%           5.000000         2.000000                   0.0   \n",
      "75%           5.000000         4.000000                   0.0   \n",
      "max           7.000000         4.000000                   0.0   \n",
      "\n",
      "       CO2EmissionsUrban  CO2EmissionsExtraUrban  FuelConsumptionCombined  \\\n",
      "count                0.0                     0.0                    200.0   \n",
      "mean                 NaN                     NaN                      0.0   \n",
      "std                  NaN                     NaN                      0.0   \n",
      "min                  NaN                     NaN                      0.0   \n",
      "25%                  NaN                     NaN                      0.0   \n",
      "50%                  NaN                     NaN                      0.0   \n",
      "75%                  NaN                     NaN                      0.0   \n",
      "max                  NaN                     NaN                      0.0   \n",
      "\n",
      "       FuelConsumptionUrban  FuelConsumptionExtraUrban  EnergyConsumptionWhkm  \\\n",
      "count                   0.0                        0.0             200.000000   \n",
      "mean                    NaN                        NaN             161.070000   \n",
      "std                     NaN                        NaN              14.925446   \n",
      "min                     NaN                        NaN             126.000000   \n",
      "25%                     NaN                        NaN             150.000000   \n",
      "50%                     NaN                        NaN             163.000000   \n",
      "75%                     NaN                        NaN             172.250000   \n",
      "max                     NaN                        NaN             184.000000   \n",
      "\n",
      "       ElectricRangeKm  StationaryNoiseData    TestSpeed  ModelEndYear  \\\n",
      "count       200.000000             9.000000    20.000000    200.000000   \n",
      "mean        492.580000            66.111111  2720.300000     40.500000   \n",
      "std         104.726989             6.881941  2194.543043    284.211419   \n",
      "min         222.000000            48.000000     1.000000      0.000000   \n",
      "25%         427.000000            67.000000     1.000000      0.000000   \n",
      "50%         505.000000            68.000000  3750.000000      0.000000   \n",
      "75%         561.500000            69.000000  4000.000000      0.000000   \n",
      "max         722.000000            70.000000  7000.000000   2025.000000   \n",
      "\n",
      "       FuelLifeCycleCO2  AnnualTailpipeCO2  AnnualFuelCost  \n",
      "count        200.000000              200.0      200.000000  \n",
      "mean         130.460000                0.0      676.470000  \n",
      "std           12.081316                0.0       62.680887  \n",
      "min          102.000000                0.0      529.000000  \n",
      "25%          122.000000                0.0      630.000000  \n",
      "50%          132.000000                0.0      685.000000  \n",
      "75%          139.250000                0.0      723.250000  \n",
      "max          149.000000                0.0      773.000000  \n"
     ]
    }
   ],
   "source": [
    "print(electric.describe())"
   ]
  },
  {
   "cell_type": "markdown",
   "id": "deb731a8",
   "metadata": {},
   "source": [
    "## Check Missing Data"
   ]
  },
  {
   "cell_type": "code",
   "execution_count": 5,
   "id": "d4b42d1a",
   "metadata": {},
   "outputs": [
    {
     "name": "stdout",
     "output_type": "stream",
     "text": [
      "Number of missing values: ModelReleaseYear                 0\n",
      "Make                             0\n",
      "ModelReleaseVersion            121\n",
      "Model                            0\n",
      "Variant                         11\n",
      "EngineDisplacement               0\n",
      "EngineConfiguration              0\n",
      "EngineInduction                199\n",
      "FwdGearsNo                       0\n",
      "TransmissionTypeDescription     42\n",
      "SideDoorNo                       0\n",
      "SeatingCapacity                  0\n",
      "BodyStyle                        0\n",
      "DrivingWheelsNo                  0\n",
      "FuelType                         0\n",
      "CO2EmissionsCombined             0\n",
      "CO2EmissionsUrban              200\n",
      "CO2EmissionsExtraUrban         200\n",
      "FuelConsumptionCombined          0\n",
      "FuelConsumptionUrban           200\n",
      "FuelConsumptionExtraUrban      200\n",
      "EnergyConsumptionWhkm            0\n",
      "ElectricRangeKm                  0\n",
      "AirPollutionStandard             0\n",
      "StationaryNoiseData            191\n",
      "TestSpeed                      180\n",
      "IsCurrentModel                   0\n",
      "ModelEndYear                     0\n",
      "FuelLifeCycleCO2                 0\n",
      "AnnualTailpipeCO2                0\n",
      "AnnualFuelCost                   0\n",
      "dtype: int64\n",
      "Total number of items: 200\n"
     ]
    }
   ],
   "source": [
    "count = electric.isnull().sum()\n",
    "    \n",
    "print(f\"Number of missing values: {count}\")\n",
    "print(f\"Total number of items: {len(electric)}\")"
   ]
  },
  {
   "cell_type": "code",
   "execution_count": 7,
   "id": "7afc0095-39fd-46b5-a545-59c101477e17",
   "metadata": {},
   "outputs": [
    {
     "name": "stdout",
     "output_type": "stream",
     "text": [
      "Number of missing values: ModelReleaseYear                 0\n",
      "Make                             0\n",
      "ModelReleaseVersion             79\n",
      "Model                            0\n",
      "Variant                          9\n",
      "EngineDisplacement               0\n",
      "EngineConfiguration              0\n",
      "EngineInduction                  0\n",
      "FwdGearsNo                       0\n",
      "TransmissionTypeDescription      0\n",
      "SideDoorNo                       0\n",
      "SeatingCapacity                  0\n",
      "BodyStyle                        0\n",
      "DrivingWheelsNo                  0\n",
      "FuelType                         0\n",
      "CO2EmissionsCombined             0\n",
      "CO2EmissionsUrban                0\n",
      "CO2EmissionsExtraUrban           0\n",
      "FuelConsumptionCombined          0\n",
      "FuelConsumptionUrban             0\n",
      "FuelConsumptionExtraUrban        0\n",
      "EnergyConsumptionWhkm          200\n",
      "ElectricRangeKm                200\n",
      "AirPollutionStandard             0\n",
      "StationaryNoiseData              0\n",
      "TestSpeed                        0\n",
      "IsCurrentModel                   0\n",
      "ModelEndYear                     0\n",
      "FuelLifeCycleCO2                 0\n",
      "AnnualTailpipeCO2                0\n",
      "AnnualFuelCost                   0\n",
      "dtype: int64\n",
      "Total number of items: 200\n"
     ]
    }
   ],
   "source": [
    "count = diesel.isnull().sum()\n",
    "    \n",
    "print(f\"Number of missing values: {count}\")\n",
    "print(f\"Total number of items: {len(diesel)}\")"
   ]
  },
  {
   "cell_type": "code",
   "execution_count": 9,
   "id": "89a0ea9e",
   "metadata": {},
   "outputs": [
    {
     "name": "stdout",
     "output_type": "stream",
     "text": [
      "Number of missing values: ModelReleaseYear                 0\n",
      "Make                             0\n",
      "ModelReleaseVersion             64\n",
      "Model                            0\n",
      "Variant                         16\n",
      "EngineDisplacement               0\n",
      "EngineConfiguration              0\n",
      "EngineInduction                  0\n",
      "FwdGearsNo                       0\n",
      "TransmissionTypeDescription      0\n",
      "SideDoorNo                       0\n",
      "SeatingCapacity                  0\n",
      "BodyStyle                        0\n",
      "DrivingWheelsNo                  0\n",
      "FuelType                         0\n",
      "CO2EmissionsCombined             0\n",
      "CO2EmissionsUrban                0\n",
      "CO2EmissionsExtraUrban           0\n",
      "FuelConsumptionCombined          0\n",
      "FuelConsumptionUrban             0\n",
      "FuelConsumptionExtraUrban        2\n",
      "EnergyConsumptionWhkm          200\n",
      "ElectricRangeKm                198\n",
      "AirPollutionStandard             0\n",
      "StationaryNoiseData              0\n",
      "TestSpeed                        0\n",
      "IsCurrentModel                   0\n",
      "ModelEndYear                     0\n",
      "FuelLifeCycleCO2                 0\n",
      "AnnualTailpipeCO2                0\n",
      "AnnualFuelCost                   2\n",
      "dtype: int64\n",
      "Total number of items: 200\n"
     ]
    }
   ],
   "source": [
    "count = petrol98.isnull().sum()\n",
    "    \n",
    "print(f\"Number of missing values: {count}\")\n",
    "print(f\"Total number of items: {len(petrol98)}\")"
   ]
  },
  {
   "cell_type": "code",
   "execution_count": 11,
   "id": "639be68b-cd0f-48c6-bdab-4d84684eef66",
   "metadata": {},
   "outputs": [
    {
     "name": "stdout",
     "output_type": "stream",
     "text": [
      "Number of missing values: ModelReleaseYear                 0\n",
      "Make                             0\n",
      "ModelReleaseVersion             89\n",
      "Model                            0\n",
      "Variant                          3\n",
      "EngineDisplacement               0\n",
      "EngineConfiguration              0\n",
      "EngineInduction                  0\n",
      "FwdGearsNo                       0\n",
      "TransmissionTypeDescription      0\n",
      "SideDoorNo                       0\n",
      "SeatingCapacity                  0\n",
      "BodyStyle                        0\n",
      "DrivingWheelsNo                  0\n",
      "FuelType                         0\n",
      "CO2EmissionsCombined             0\n",
      "CO2EmissionsUrban                3\n",
      "CO2EmissionsExtraUrban           1\n",
      "FuelConsumptionCombined          0\n",
      "FuelConsumptionUrban             3\n",
      "FuelConsumptionExtraUrban        6\n",
      "EnergyConsumptionWhkm          197\n",
      "ElectricRangeKm                192\n",
      "AirPollutionStandard             0\n",
      "StationaryNoiseData              0\n",
      "TestSpeed                        0\n",
      "IsCurrentModel                   0\n",
      "ModelEndYear                     0\n",
      "FuelLifeCycleCO2                 0\n",
      "AnnualTailpipeCO2                0\n",
      "AnnualFuelCost                   5\n",
      "dtype: int64\n",
      "Total number of items: 200\n"
     ]
    }
   ],
   "source": [
    "count = petrol95.isnull().sum()\n",
    "    \n",
    "print(f\"Number of missing values: {count}\")\n",
    "print(f\"Total number of items: {len(petrol95)}\")"
   ]
  },
  {
   "cell_type": "code",
   "execution_count": 13,
   "id": "451ef3ed-6e07-44d9-b3d9-3023d5732513",
   "metadata": {},
   "outputs": [
    {
     "name": "stdout",
     "output_type": "stream",
     "text": [
      "Number of missing values: ModelReleaseYear                 0\n",
      "Make                             0\n",
      "ModelReleaseVersion            110\n",
      "Model                            0\n",
      "Variant                         15\n",
      "EngineDisplacement               0\n",
      "EngineConfiguration              0\n",
      "EngineInduction                  1\n",
      "FwdGearsNo                       0\n",
      "TransmissionTypeDescription      0\n",
      "SideDoorNo                       0\n",
      "SeatingCapacity                  0\n",
      "BodyStyle                        0\n",
      "DrivingWheelsNo                  0\n",
      "FuelType                         0\n",
      "CO2EmissionsCombined             0\n",
      "CO2EmissionsUrban                0\n",
      "CO2EmissionsExtraUrban           0\n",
      "FuelConsumptionCombined          0\n",
      "FuelConsumptionUrban             0\n",
      "FuelConsumptionExtraUrban        0\n",
      "EnergyConsumptionWhkm          200\n",
      "ElectricRangeKm                200\n",
      "AirPollutionStandard             0\n",
      "StationaryNoiseData              0\n",
      "TestSpeed                        0\n",
      "IsCurrentModel                   0\n",
      "ModelEndYear                     0\n",
      "FuelLifeCycleCO2                 0\n",
      "AnnualTailpipeCO2                0\n",
      "AnnualFuelCost                   0\n",
      "dtype: int64\n",
      "Total number of items: 200\n"
     ]
    }
   ],
   "source": [
    "count = petrol91.isnull().sum()\n",
    "    \n",
    "print(f\"Number of missing values: {count}\")\n",
    "print(f\"Total number of items: {len(petrol91)}\")"
   ]
  },
  {
   "cell_type": "code",
   "execution_count": 15,
   "id": "da80cd4f",
   "metadata": {},
   "outputs": [
    {
     "name": "stdout",
     "output_type": "stream",
     "text": [
      "Number of missing values: Reporting entity                     0\n",
      "Facility name                        0\n",
      "Type                                 0\n",
      "State                                0\n",
      "Electricity production (GJ)          0\n",
      "Electricity production (MWh)         0\n",
      "Total scope 1 emissions (t CO2-e)    0\n",
      "Total scope 2 emissions (t CO2-e)    0\n",
      "Total emissions (t CO2-e)            0\n",
      "Emission intensity (t CO2-e/MWh)     0\n",
      "Grid connected                       0\n",
      "Grid                                 0\n",
      "Primary fuel                         0\n",
      "Important notes                      0\n",
      "dtype: int64\n",
      "Total number of items: 775\n"
     ]
    }
   ],
   "source": [
    "count = greenhouse.isnull().sum()\n",
    "    \n",
    "print(f\"Number of missing values: {count}\")\n",
    "print(f\"Total number of items: {len(greenhouse)}\")"
   ]
  },
  {
   "cell_type": "code",
   "execution_count": 181,
   "id": "cd1b12be-4479-4900-9fcd-faf221589422",
   "metadata": {},
   "outputs": [],
   "source": [
    "# Drop columns with any null values\n",
    "df = [electric, diesel, petrol98, petrol95, petrol91, greenhouse]\n",
    "df = [df.dropna(axis=1) for df in df]\n",
    "\n",
    "# Assign back to original variables\n",
    "electric, diesel, petrol98, petrol95, petrol91, greenhouse = df"
   ]
  },
  {
   "cell_type": "markdown",
   "id": "d3048d0d",
   "metadata": {},
   "source": [
    "## Displaying Datatypes"
   ]
  },
  {
   "cell_type": "code",
   "execution_count": 183,
   "id": "1a513d40",
   "metadata": {},
   "outputs": [
    {
     "data": {
      "text/plain": [
       "ModelReleaseYear             int64\n",
       "Make                        object\n",
       "Model                       object\n",
       "EngineDisplacement         float64\n",
       "EngineConfiguration         object\n",
       "FwdGearsNo                   int64\n",
       "SideDoorNo                   int64\n",
       "SeatingCapacity              int64\n",
       "BodyStyle                   object\n",
       "DrivingWheelsNo              int64\n",
       "FuelType                    object\n",
       "CO2EmissionsCombined         int64\n",
       "FuelConsumptionCombined      int64\n",
       "EnergyConsumptionWhkm        int64\n",
       "ElectricRangeKm              int64\n",
       "AirPollutionStandard        object\n",
       "IsCurrentModel              object\n",
       "ModelEndYear                 int64\n",
       "FuelLifeCycleCO2             int64\n",
       "AnnualTailpipeCO2            int64\n",
       "AnnualFuelCost               int64\n",
       "EV_gCO2_per_km             float64\n",
       "dtype: object"
      ]
     },
     "execution_count": 183,
     "metadata": {},
     "output_type": "execute_result"
    }
   ],
   "source": [
    "electric.dtypes"
   ]
  },
  {
   "cell_type": "code",
   "execution_count": 19,
   "id": "79ec6cbd-8a0e-4106-ba54-6c9060a38c36",
   "metadata": {},
   "outputs": [
    {
     "data": {
      "text/plain": [
       "ModelReleaseYear                 int64\n",
       "Make                            object\n",
       "ModelReleaseVersion             object\n",
       "Model                           object\n",
       "Variant                         object\n",
       "EngineDisplacement              object\n",
       "EngineConfiguration             object\n",
       "EngineInduction                 object\n",
       "FwdGearsNo                      object\n",
       "TransmissionTypeDescription     object\n",
       "SideDoorNo                       int64\n",
       "SeatingCapacity                 object\n",
       "BodyStyle                       object\n",
       "DrivingWheelsNo                 object\n",
       "FuelType                        object\n",
       "CO2EmissionsCombined             int64\n",
       "CO2EmissionsUrban                int64\n",
       "CO2EmissionsExtraUrban         float64\n",
       "FuelConsumptionCombined        float64\n",
       "FuelConsumptionUrban           float64\n",
       "FuelConsumptionExtraUrban      float64\n",
       "EnergyConsumptionWhkm          float64\n",
       "ElectricRangeKm                 object\n",
       "AirPollutionStandard            object\n",
       "StationaryNoiseData            float64\n",
       "TestSpeed                       object\n",
       "IsCurrentModel                  object\n",
       "ModelEndYear                     int64\n",
       "FuelLifeCycleCO2               float64\n",
       "AnnualTailpipeCO2              float64\n",
       "AnnualFuelCost                 float64\n",
       "dtype: object"
      ]
     },
     "execution_count": 19,
     "metadata": {},
     "output_type": "execute_result"
    }
   ],
   "source": [
    "petrol98.dtypes"
   ]
  },
  {
   "cell_type": "code",
   "execution_count": 21,
   "id": "852466c1-be2c-4df8-b92a-fce65387dd8a",
   "metadata": {},
   "outputs": [
    {
     "data": {
      "text/plain": [
       "ModelReleaseYear                 int64\n",
       "Make                            object\n",
       "ModelReleaseVersion             object\n",
       "Model                           object\n",
       "Variant                         object\n",
       "EngineDisplacement              object\n",
       "EngineConfiguration             object\n",
       "EngineInduction                 object\n",
       "FwdGearsNo                      object\n",
       "TransmissionTypeDescription     object\n",
       "SideDoorNo                       int64\n",
       "SeatingCapacity                 object\n",
       "BodyStyle                       object\n",
       "DrivingWheelsNo                 object\n",
       "FuelType                        object\n",
       "CO2EmissionsCombined             int64\n",
       "CO2EmissionsUrban              float64\n",
       "CO2EmissionsExtraUrban         float64\n",
       "FuelConsumptionCombined        float64\n",
       "FuelConsumptionUrban           float64\n",
       "FuelConsumptionExtraUrban      float64\n",
       "EnergyConsumptionWhkm          float64\n",
       "ElectricRangeKm                 object\n",
       "AirPollutionStandard            object\n",
       "StationaryNoiseData            float64\n",
       "TestSpeed                       object\n",
       "IsCurrentModel                  object\n",
       "ModelEndYear                     int64\n",
       "FuelLifeCycleCO2               float64\n",
       "AnnualTailpipeCO2              float64\n",
       "AnnualFuelCost                 float64\n",
       "dtype: object"
      ]
     },
     "execution_count": 21,
     "metadata": {},
     "output_type": "execute_result"
    }
   ],
   "source": [
    "petrol95.dtypes"
   ]
  },
  {
   "cell_type": "code",
   "execution_count": 23,
   "id": "63bec216-bfec-4702-912c-8180d8097a9f",
   "metadata": {},
   "outputs": [
    {
     "data": {
      "text/plain": [
       "ModelReleaseYear                 int64\n",
       "Make                            object\n",
       "ModelReleaseVersion             object\n",
       "Model                           object\n",
       "Variant                         object\n",
       "EngineDisplacement             float64\n",
       "EngineConfiguration             object\n",
       "EngineInduction                 object\n",
       "FwdGearsNo                       int64\n",
       "TransmissionTypeDescription     object\n",
       "SideDoorNo                       int64\n",
       "SeatingCapacity                  int64\n",
       "BodyStyle                       object\n",
       "DrivingWheelsNo                  int64\n",
       "FuelType                        object\n",
       "CO2EmissionsCombined             int64\n",
       "CO2EmissionsUrban                int64\n",
       "CO2EmissionsExtraUrban           int64\n",
       "FuelConsumptionCombined        float64\n",
       "FuelConsumptionUrban           float64\n",
       "FuelConsumptionExtraUrban      float64\n",
       "EnergyConsumptionWhkm          float64\n",
       "ElectricRangeKm                float64\n",
       "AirPollutionStandard            object\n",
       "StationaryNoiseData            float64\n",
       "TestSpeed                        int64\n",
       "IsCurrentModel                  object\n",
       "ModelEndYear                     int64\n",
       "FuelLifeCycleCO2                 int64\n",
       "AnnualTailpipeCO2              float64\n",
       "AnnualFuelCost                   int64\n",
       "dtype: object"
      ]
     },
     "execution_count": 23,
     "metadata": {},
     "output_type": "execute_result"
    }
   ],
   "source": [
    "petrol91.dtypes"
   ]
  },
  {
   "cell_type": "code",
   "execution_count": 25,
   "id": "3a8b45f5-aeb7-40b5-8ee8-623e32f36497",
   "metadata": {},
   "outputs": [
    {
     "data": {
      "text/plain": [
       "ModelReleaseYear                 int64\n",
       "Make                            object\n",
       "ModelReleaseVersion             object\n",
       "Model                           object\n",
       "Variant                         object\n",
       "EngineDisplacement             float64\n",
       "EngineConfiguration             object\n",
       "EngineInduction                 object\n",
       "FwdGearsNo                       int64\n",
       "TransmissionTypeDescription     object\n",
       "SideDoorNo                       int64\n",
       "SeatingCapacity                  int64\n",
       "BodyStyle                       object\n",
       "DrivingWheelsNo                  int64\n",
       "FuelType                        object\n",
       "CO2EmissionsCombined             int64\n",
       "CO2EmissionsUrban                int64\n",
       "CO2EmissionsExtraUrban           int64\n",
       "FuelConsumptionCombined        float64\n",
       "FuelConsumptionUrban           float64\n",
       "FuelConsumptionExtraUrban      float64\n",
       "EnergyConsumptionWhkm          float64\n",
       "ElectricRangeKm                float64\n",
       "AirPollutionStandard            object\n",
       "StationaryNoiseData            float64\n",
       "TestSpeed                        int64\n",
       "IsCurrentModel                  object\n",
       "ModelEndYear                     int64\n",
       "FuelLifeCycleCO2                 int64\n",
       "AnnualTailpipeCO2              float64\n",
       "AnnualFuelCost                   int64\n",
       "dtype: object"
      ]
     },
     "execution_count": 25,
     "metadata": {},
     "output_type": "execute_result"
    }
   ],
   "source": [
    "diesel.dtypes"
   ]
  },
  {
   "cell_type": "code",
   "execution_count": 27,
   "id": "8b4f09ac-01ed-4caa-804d-9a6556c530c3",
   "metadata": {},
   "outputs": [
    {
     "data": {
      "text/plain": [
       "Reporting entity                     object\n",
       "Facility name                        object\n",
       "Type                                 object\n",
       "State                                object\n",
       "Electricity production (GJ)          object\n",
       "Electricity production (MWh)         object\n",
       "Total scope 1 emissions (t CO2-e)    object\n",
       "Total scope 2 emissions (t CO2-e)    object\n",
       "Total emissions (t CO2-e)            object\n",
       "Emission intensity (t CO2-e/MWh)     object\n",
       "Grid connected                       object\n",
       "Grid                                 object\n",
       "Primary fuel                         object\n",
       "Important notes                      object\n",
       "dtype: object"
      ]
     },
     "execution_count": 27,
     "metadata": {},
     "output_type": "execute_result"
    }
   ],
   "source": [
    "greenhouse.dtypes"
   ]
  },
  {
   "cell_type": "markdown",
   "id": "1e5c5fca-47ae-4bb6-bc5f-74aa74e70a0c",
   "metadata": {},
   "source": [
    "## VIC Emission Factor"
   ]
  },
  {
   "cell_type": "markdown",
   "id": "ae1378f2-f87d-45f2-841b-501deb009851",
   "metadata": {},
   "source": [
    "Filters greenhouse data to Victoria, converts text columns to numeric, removes missing values, and computes the grid’s CO₂ intensity in kg/kWh. EV emissions depend on the electricity grid; this gives a conversion factor to estimate EV emissions from electricity use."
   ]
  },
  {
   "cell_type": "code",
   "execution_count": 185,
   "id": "feacfa37-cd50-42eb-a767-2bc0a885b02e",
   "metadata": {},
   "outputs": [
    {
     "name": "stdout",
     "output_type": "stream",
     "text": [
      "Victoria Grid Emission Factor: 0.848 kg CO₂/kWh\n"
     ]
    }
   ],
   "source": [
    "# Ensure all columns are visible when printing DataFrames\n",
    "pd.set_option(\"display.max_columns\", None)\n",
    "\n",
    "# Filter the greenhouse dataset to include only records for Victoria (VIC)\n",
    "vic = greenhouse[greenhouse['State'] == 'VIC'].copy()\n",
    "\n",
    "# Convert total emissions column to numeric by removing commas and coercing errors to NaN\n",
    "vic['Total emissions (t CO2-e)'] = pd.to_numeric(\n",
    "    vic['Total emissions (t CO2-e)'].str.replace(',', ''), errors='coerce'\n",
    ")\n",
    "\n",
    "# Convert electricity production column to numeric by removing commas and coercing errors to NaN\n",
    "vic['Electricity production (MWh)'] = pd.to_numeric(\n",
    "    vic['Electricity production (MWh)'].str.replace(',', ''), errors='coerce'\n",
    ")\n",
    "\n",
    "# Drop rows with missing values in critical columns\n",
    "vic = vic.dropna(subset=['Total emissions (t CO2-e)', 'Electricity production (MWh)'])\n",
    "\n",
    "# Calculate Victoria's total emission intensity in tonnes of CO₂ per MWh of electricity\n",
    "emission_intensity_t_per_mwh = vic['Total emissions (t CO2-e)'].sum() / vic['Electricity production (MWh)'].sum()\n",
    "\n",
    "# Convert tonnes/MWh to kg/kWh (1 tonne/MWh = 1 kg/kWh) for easier downstream calculations\n",
    "emission_factor_kg_per_kwh = emission_intensity_t_per_mwh\n",
    "\n",
    "# Print the calculated grid emission factor for Victoria\n",
    "print(f\"Victoria Grid Emission Factor: {emission_factor_kg_per_kwh:.3f} kg CO₂/kWh\")"
   ]
  },
  {
   "cell_type": "markdown",
   "id": "b66f95cd-ac4d-486d-aac0-e97c363cdc86",
   "metadata": {},
   "source": [
    "## EV gCO₂/km"
   ]
  },
  {
   "cell_type": "markdown",
   "id": "6aaa8ecb-15fb-47a4-bc06-9c78ace105fb",
   "metadata": {},
   "source": [
    "This code calculates the estimated CO₂ emissions per kilometre for each electric vehicle (EV) based on its electricity consumption and the grid’s emission factor."
   ]
  },
  {
   "cell_type": "code",
   "execution_count": 167,
   "id": "6e46ddd4-7821-4bd0-a5b9-83e78bdbd0f7",
   "metadata": {},
   "outputs": [
    {
     "name": "stdout",
     "output_type": "stream",
     "text": [
      "EV emissions sample:\n",
      "      Make     Model  EnergyConsumptionWhkm  EV_gCO2_per_km\n",
      "0     BYD   DOLPHIN                    126      106.836710\n",
      "1   Lexus   UX 300e                    128      108.532531\n",
      "2  Toyota      bZ4X                    128      108.532531\n",
      "3      MG       MG4                    130      110.228352\n",
      "4   Chery  Omoda E5                    130      110.228352\n"
     ]
    }
   ],
   "source": [
    "# Calculate EV emissions in grams of CO₂ per km.\n",
    "# 1) Convert Wh/km to kWh/km by dividing by 1000.\n",
    "# 2) Multiply by Victoria's grid emission factor (kg CO₂/kWh) to get kg CO₂/km.\n",
    "# 3) Multiply by 1000 to convert kg to grams of CO₂/km.\n",
    "electric['EV_gCO2_per_km'] = (electric['EnergyConsumptionWhkm'] / 1000) * emission_factor_kg_per_kwh * 1000\n",
    "\n",
    "# Display a sample of key columns to verify the new emissions calculation\n",
    "print(\"EV emissions sample:\\n\", electric[['Make','Model','EnergyConsumptionWhkm','EV_gCO2_per_km']].head())"
   ]
  },
  {
   "cell_type": "markdown",
   "id": "3d1745c8-25bf-437c-9798-7801dda4a99c",
   "metadata": {},
   "source": [
    "## Fuel CO₂ Baseline"
   ]
  },
  {
   "cell_type": "markdown",
   "id": "76da5484-e725-4a71-94c3-02a422ede4d4",
   "metadata": {},
   "source": [
    "Defines a helper function to calculate tailpipe CO₂ for petrol and diesel cars using their fuel consumption and standard emission factors. This will create a consistent baseline to compare ICE emissions with EV emissions."
   ]
  },
  {
   "cell_type": "code",
   "execution_count": 177,
   "id": "85985ed8-3b35-48c9-bccc-c8ae1024ac23",
   "metadata": {},
   "outputs": [
    {
     "name": "stdout",
     "output_type": "stream",
     "text": [
      "ICE combined sample:\n",
      "    ModelReleaseYear    Make ModelReleaseVersion  Model Variant  \\\n",
      "0              2017  Suzuki                  AZ  Swift      GL   \n",
      "1              2017  Suzuki                 NaN  Ignis      GL   \n",
      "2              2017  Suzuki                  AZ  Swift      GL   \n",
      "3              2017  Suzuki                 NaN  Ignis      GL   \n",
      "4              2017  Suzuki                 NaN  Ignis     GLX   \n",
      "\n",
      "  EngineDisplacement EngineConfiguration EngineInduction FwdGearsNo  \\\n",
      "0                1.2                4cyl          Normal          5   \n",
      "1                1.2                4cyl          Normal          5   \n",
      "2                1.2                4cyl          Normal          1   \n",
      "3                1.2                4cyl          Normal          1   \n",
      "4                1.2                4cyl          Normal          1   \n",
      "\n",
      "  TransmissionTypeDescription  SideDoorNo SeatingCapacity BodyStyle  \\\n",
      "0                      Manual           4               5     Hatch   \n",
      "1                      Manual           4               5     Hatch   \n",
      "2                         CVT           4               5     Hatch   \n",
      "3                         CVT           4               5     Hatch   \n",
      "4                         CVT           4               4     Hatch   \n",
      "\n",
      "  DrivingWheelsNo  FuelType  CO2EmissionsCombined  CO2EmissionsUrban  \\\n",
      "0               2  Petrol91                   106              134.0   \n",
      "1               2  Petrol91                   107              130.0   \n",
      "2               2  Petrol91                   110              135.0   \n",
      "3               2  Petrol91                   114              133.0   \n",
      "4               2  Petrol91                   114              133.0   \n",
      "\n",
      "   CO2EmissionsExtraUrban  FuelConsumptionCombined  FuelConsumptionUrban  \\\n",
      "0                    90.0                      4.6                   5.8   \n",
      "1                    94.0                      4.7                   5.6   \n",
      "2                    96.0                      4.8                   5.8   \n",
      "3                   103.0                      4.9                   5.7   \n",
      "4                   103.0                      4.9                   5.7   \n",
      "\n",
      "   FuelConsumptionExtraUrban  EnergyConsumptionWhkm ElectricRangeKm  \\\n",
      "0                        3.9                    NaN             NaN   \n",
      "1                        4.1                    NaN             NaN   \n",
      "2                        4.2                    NaN             NaN   \n",
      "3                        4.4                    NaN             NaN   \n",
      "4                        4.4                    NaN             NaN   \n",
      "\n",
      "  AirPollutionStandard  StationaryNoiseData TestSpeed IsCurrentModel  \\\n",
      "0               Euro 5                 74.0      3750             No   \n",
      "1               Euro 5                 77.0      3750            Yes   \n",
      "2               Euro 5                 74.0      3750             No   \n",
      "3               Euro 5                 77.0      3750            Yes   \n",
      "4               Euro 5                 77.0      3750            Yes   \n",
      "\n",
      "   ModelEndYear  FuelLifeCycleCO2  AnnualTailpipeCO2  AnnualFuelCost  \\\n",
      "0          2025             112.0               1.48          1056.0   \n",
      "1             0             115.0               1.50          1079.0   \n",
      "2          2025             117.0               1.54          1102.0   \n",
      "3             0             120.0               1.60          1125.0   \n",
      "4             0             120.0               1.60          1125.0   \n",
      "\n",
      "   ICE_CO2_Baseline  \n",
      "0            106.72  \n",
      "1            109.04  \n",
      "2            111.36  \n",
      "3            113.68  \n",
      "4            113.68  \n"
     ]
    }
   ],
   "source": [
    "def add_co2_baseline(df, fuel_type):\n",
    "\n",
    "#Add a baseline CO₂ emissions column for internal-combustion engine (ICE) vehicles.\n",
    "#Uses standard emission factors:\n",
    "#  * Petrol: 23.2 g CO₂ per km per litre of fuel consumed\n",
    "#  * Diesel: 26.5 g CO₂ per km per litre of fuel consumed\n",
    "#Also records the fuel type for later analysis.\n",
    "\n",
    "    if fuel_type.lower().startswith(\"petrol\"):\n",
    "        # Calculate petrol baseline emissions\n",
    "        df['ICE_CO2_Baseline'] = df['FuelConsumptionCombined'] * 23.2\n",
    "    elif fuel_type.lower().startswith(\"diesel\"):\n",
    "        # Calculate diesel baseline emissions\n",
    "        df['ICE_CO2_Baseline'] = df['FuelConsumptionCombined'] * 26.5\n",
    "    df['FuelType'] = fuel_type   # Tag each record with its specific fuel type\n",
    "    return df\n",
    "\n",
    "# Apply baseline calculation to each ICE dataset by fuel type\n",
    "petrol91 = add_co2_baseline(petrol91, \"Petrol91\")\n",
    "petrol95 = add_co2_baseline(petrol95, \"Petrol95\")\n",
    "petrol98 = add_co2_baseline(petrol98, \"Petrol98\")\n",
    "diesel   = add_co2_baseline(diesel, \"Diesel\")\n",
    "\n",
    "# Combine all processed ICE datasets into one DataFrame for downstream comparisons\n",
    "ice_all = pd.concat([petrol91, petrol95, petrol98, diesel], ignore_index=True)\n",
    "print(\"ICE combined sample:\\n\", ice_all.head())"
   ]
  },
  {
   "cell_type": "markdown",
   "id": "e7f53bbd-cc9b-44ad-b70d-69bd98b4aed4",
   "metadata": {},
   "source": [
    "## Cartesian Join"
   ]
  },
  {
   "cell_type": "markdown",
   "id": "5aaac82b-5487-490a-8680-f97ef1b8fd57",
   "metadata": {},
   "source": [
    "Builds every EV–ICE pair by a cross join so each electric model is compared with every ICE model. This will enable exploration of CO₂ savings across all possible replacement scenarios."
   ]
  },
  {
   "cell_type": "code",
   "execution_count": 171,
   "id": "8a85a294-99be-4681-8876-d3795c890b6f",
   "metadata": {},
   "outputs": [
    {
     "name": "stdout",
     "output_type": "stream",
     "text": [
      "Cartesian join shape: (160000, 64)\n"
     ]
    }
   ],
   "source": [
    "# Create a full pairwise (Cartesian) join between EV and ICE datasets\n",
    "cartesian_df = (\n",
    "    electric.assign(key=1)     # Add a dummy key column to every EV row\n",
    "    .merge(\n",
    "        ice_all.assign(key=1), # Add the same dummy key to every ICE row\n",
    "        on=\"key\",              # Merge on the dummy key so every EV pairs with every ICE\n",
    "        suffixes=(\"_EV\", \"_ICE\")\n",
    "    )\n",
    "    .drop(\"key\", axis=1)       # Remove the temporary key column after merging\n",
    ")\n",
    "\n",
    "# Display the shape to confirm total number of EV–ICE combinations\n",
    "print(\"Cartesian join shape:\", cartesian_df.shape)"
   ]
  },
  {
   "cell_type": "markdown",
   "id": "8946b851-00f1-4e51-87e5-00f855a01907",
   "metadata": {},
   "source": [
    "## Feature Engineering"
   ]
  },
  {
   "cell_type": "markdown",
   "id": "3b731def-6607-4ce0-a769-6434debf175d",
   "metadata": {},
   "source": [
    "Adds year difference, calculates the target variable (CO2_saving = ICE – EV emissions), and selects relevant feature columns for modelling."
   ]
  },
  {
   "cell_type": "code",
   "execution_count": 173,
   "id": "5dc32d26-cdbf-4f3f-9727-6e9622ec6e72",
   "metadata": {},
   "outputs": [],
   "source": [
    "# Calculate the difference in model release year between the electric vehicle (EV) and the internal combustion engine (ICE) vehicle\n",
    "cartesian_df[\"YearDiff\"] = cartesian_df[\"ModelReleaseYear_EV\"] - cartesian_df[\"ModelReleaseYear_ICE\"]\n",
    "\n",
    "# Compute the CO2 savings for each EV vs ICE comparison\n",
    "# This is the difference between the ICE baseline emissions and the EV's actual gCO2 per km\n",
    "cartesian_df[\"CO2_saving\"] = cartesian_df[\"ICE_CO2_Baseline\"] - cartesian_df[\"EV_gCO2_per_km\"]\n",
    "\n",
    "# Define the feature set for modeling\n",
    "# Includes vehicle make, body style, ICE fuel type, year difference, and ICE baseline CO2 emissions\n",
    "\n",
    "# Features\n",
    "X = cartesian_df[[\"Make_EV\",\"Make_ICE\",\"BodyStyle_EV\",\"BodyStyle_ICE\",\"FuelType_ICE\",\"YearDiff\",\"ICE_CO2_Baseline\"]]\n",
    "\n",
    "# Define the target variable\n",
    "# CO2 savings represents how much CO2 an EV saves compared to its ICE counterpart\n",
    "y = cartesian_df[\"CO2_saving\"]"
   ]
  },
  {
   "cell_type": "markdown",
   "id": "8280ce37-8551-47c7-91e9-e9bfc7749756",
   "metadata": {},
   "source": [
    "# Models Selection"
   ]
  },
  {
   "cell_type": "markdown",
   "id": "0b42f8b7-9a14-4051-943d-22f76cc05408",
   "metadata": {},
   "source": [
    "This block prepares and compares three machine-learning models to predict CO₂ savings. A shared preprocessor first one-hot encodes categorical features so all models can handle vehicle makes, body styles, and fuel types numerically. Three pipelines are then defined: Linear Regression for a simple baseline, Random Forest for capturing complex non-linear patterns, and Gradient Boosting for high-accuracy, sequential tree boosting."
   ]
  },
  {
   "cell_type": "markdown",
   "id": "a68fb93f-7629-4104-9850-92420eb1b8f7",
   "metadata": {},
   "source": [
    "## Linear Regression"
   ]
  },
  {
   "cell_type": "markdown",
   "id": "6984a6a7-e6d9-4ff1-a9b2-324f34db5d0d",
   "metadata": {},
   "source": [
    "Creates a preprocessing + Linear Regression pipeline with one-hot encoding for categorical features. Performs 5-fold cross-validation to report R² and MAE scores."
   ]
  },
  {
   "cell_type": "code",
   "execution_count": 116,
   "id": "761d5337-6dd2-4d2e-91ea-2e632f207de9",
   "metadata": {},
   "outputs": [],
   "source": [
    "# Build a pipeline: OneHotEncode categorical features + Linear Regression\n",
    "lr_preprocessor = ColumnTransformer(\n",
    "    transformers=[(\"cat\", OneHotEncoder(handle_unknown=\"ignore\"), categorical_cols)],\n",
    "    remainder=\"passthrough\"\n",
    ")\n",
    "\n",
    "lr_pipeline = Pipeline([\n",
    "    (\"preprocessor\", lr_preprocessor),\n",
    "    (\"model\", LinearRegression())\n",
    "])"
   ]
  },
  {
   "cell_type": "code",
   "execution_count": 118,
   "id": "89048f36-9308-4f69-8a60-6d8c91f2eb51",
   "metadata": {},
   "outputs": [
    {
     "name": "stdout",
     "output_type": "stream",
     "text": [
      "=== Linear Regression (5-fold CV) ===\n",
      "R² scores: [0.92491791 0.92514299 0.92708968 0.92477188 0.92554557]\n",
      "Mean R²: 0.925 | Std: 0.001\n",
      "MAE scores (g/km): [6.73239846 6.81081442 6.73240045 6.80484598 6.7520074 ]\n",
      "Mean MAE: 6.766 g/km\n"
     ]
    }
   ],
   "source": [
    "# Cross-validated scores for Linear Regression\n",
    "kf = KFold(n_splits=5, shuffle=True, random_state=42)\n",
    "\n",
    "lr_r2_scores = cross_val_score(lr_pipeline, X, y, cv=kf, scoring=\"r2\")\n",
    "lr_mae_scores = -cross_val_score(lr_pipeline, X, y, cv=kf, scoring=\"neg_mean_absolute_error\")\n",
    "\n",
    "print(\"=== Linear Regression (5-fold CV) ===\")\n",
    "print(f\"R² scores: {lr_r2_scores}\")\n",
    "print(f\"Mean R²: {np.mean(lr_r2_scores):.3f} | Std: {np.std(lr_r2_scores):.3f}\")\n",
    "print(f\"MAE scores (g/km): {lr_mae_scores}\")\n",
    "print(f\"Mean MAE: {np.mean(lr_mae_scores):.3f} g/km\")"
   ]
  },
  {
   "cell_type": "markdown",
   "id": "9a6161a0-fcf4-46ef-8d1e-cd0766518b21",
   "metadata": {},
   "source": [
    "## Random Forest"
   ]
  },
  {
   "cell_type": "markdown",
   "id": "7738d8d4-413b-452d-860d-37da3af8e10b",
   "metadata": {},
   "source": [
    "Builds a Random Forest pipeline with the same preprocessing. Cross-validates the Random Forest and prints R² and MAE."
   ]
  },
  {
   "cell_type": "code",
   "execution_count": 129,
   "id": "4b528ffa-a51e-4bf5-834e-625ecbddc001",
   "metadata": {},
   "outputs": [],
   "source": [
    "# Build a pipeline: OneHotEncode categorical features + Random Forest\n",
    "rf_preprocessor = ColumnTransformer(\n",
    "    transformers=[(\"cat\", OneHotEncoder(handle_unknown=\"ignore\"), categorical_cols)],\n",
    "    remainder=\"passthrough\"\n",
    ")\n",
    "\n",
    "rf_pipeline = Pipeline([\n",
    "    (\"preprocessor\", rf_preprocessor),\n",
    "    (\"model\", RandomForestRegressor(n_estimators=200, random_state=42, n_jobs=-1))\n",
    "])"
   ]
  },
  {
   "cell_type": "code",
   "execution_count": 131,
   "id": "cc220c55-44ba-4780-8296-7a2f059e82db",
   "metadata": {},
   "outputs": [
    {
     "name": "stdout",
     "output_type": "stream",
     "text": [
      "\n",
      "=== Random Forest (5-fold CV) ===\n",
      "R² scores: [0.94550744 0.9476198  0.94857517 0.94636868 0.94717745]\n",
      "Mean R²: 0.947 | Std: 0.001\n",
      "MAE scores (g/km): [5.38430912 5.39282511 5.34581978 5.4255368  5.3624241 ]\n",
      "Mean MAE: 5.382 g/km\n"
     ]
    }
   ],
   "source": [
    "# Cross-validated scores for Random Forest\n",
    "kf = KFold(n_splits=5, shuffle=True, random_state=42)\n",
    "\n",
    "rf_r2_scores = cross_val_score(rf_pipeline, X, y, cv=kf, scoring=\"r2\")\n",
    "rf_mae_scores = -cross_val_score(rf_pipeline, X, y, cv=kf, scoring=\"neg_mean_absolute_error\")\n",
    "\n",
    "print(\"\\n=== Random Forest (5-fold CV) ===\")\n",
    "print(f\"R² scores: {rf_r2_scores}\")\n",
    "print(f\"Mean R²: {np.mean(rf_r2_scores):.3f} | Std: {np.std(rf_r2_scores):.3f}\")\n",
    "print(f\"MAE scores (g/km): {rf_mae_scores}\")\n",
    "print(f\"Mean MAE: {np.mean(rf_mae_scores):.3f} g/km\")"
   ]
  },
  {
   "cell_type": "markdown",
   "id": "e6a63d4f-2069-465a-959c-e1f2c1090414",
   "metadata": {},
   "source": [
    "## Gradient Boosting"
   ]
  },
  {
   "cell_type": "markdown",
   "id": "e424118f-3a76-4675-a642-7458e882e0b8",
   "metadata": {},
   "source": [
    "Defines a Gradient Boosting Regressor pipeline.Cross-validates Gradient Boosting, reporting R² and MAE."
   ]
  },
  {
   "cell_type": "code",
   "execution_count": 83,
   "id": "54968dcf-e551-4fd7-84e3-bb2f744fc71c",
   "metadata": {},
   "outputs": [],
   "source": [
    "categorical_cols = [\"Make_EV\",\"Make_ICE\",\"BodyStyle_EV\",\"BodyStyle_ICE\",\"FuelType_ICE\"]\n",
    "\n",
    "preprocessor = ColumnTransformer(\n",
    "    transformers=[(\"cat\", OneHotEncoder(handle_unknown=\"ignore\"), categorical_cols)],\n",
    "    remainder=\"passthrough\"\n",
    ")\n",
    "\n",
    "gb_model = Pipeline([\n",
    "    (\"preprocessor\", preprocessor),\n",
    "    (\"model\", GradientBoostingRegressor(random_state=42))\n",
    "])"
   ]
  },
  {
   "cell_type": "code",
   "execution_count": 85,
   "id": "7b10aa6b-fc00-476a-96a7-777cd6afba21",
   "metadata": {},
   "outputs": [
    {
     "name": "stdout",
     "output_type": "stream",
     "text": [
      "Cross-validated R² scores: [0.92535116 0.92515103 0.92779109 0.92546673 0.92677564]\n",
      "Mean R²: 0.926\n",
      "Cross-validated MAE scores: [7.01315429 7.09637045 6.99809684 7.05867436 6.97247732]\n",
      "Mean MAE: 7.028\n"
     ]
    }
   ],
   "source": [
    "kf = KFold(n_splits=5, shuffle=True, random_state=42)\n",
    "scores_r2 = cross_val_score(gb_model, X, y, cv=kf, scoring=\"r2\")\n",
    "scores_mae = cross_val_score(gb_model, X, y, cv=kf, scoring=\"neg_mean_absolute_error\")\n",
    "\n",
    "print(f\"Cross-validated R² scores: {scores_r2}\")\n",
    "print(f\"Mean R²: {scores_r2.mean():.3f}\")\n",
    "print(f\"Cross-validated MAE scores: {-scores_mae}\")\n",
    "print(f\"Mean MAE: {-scores_mae.mean():.3f}\")"
   ]
  },
  {
   "cell_type": "markdown",
   "id": "dbf8dbd1-559c-4b6b-a164-6b5ac82175e8",
   "metadata": {},
   "source": [
    "### Model Selected: Gradient Boosting"
   ]
  },
  {
   "cell_type": "markdown",
   "id": "bf5a8268-05f0-499e-b0a3-c729a6f38f6b",
   "metadata": {},
   "source": [
    "## Impact Analysis"
   ]
  },
  {
   "cell_type": "markdown",
   "id": "c85c0fe2-a245-456c-a3fb-c09365449aa7",
   "metadata": {},
   "source": [
    "Fits Gradient Boosting on all data, predicts CO₂ savings, and aggregates results by EV make, body style, year, and ICE fuel type. This generates actionable insights about which EV types give the most environmental benefit."
   ]
  },
  {
   "cell_type": "code",
   "execution_count": 175,
   "id": "c080ff6e-eafb-4b82-b621-b5d8b537e2f0",
   "metadata": {},
   "outputs": [
    {
     "name": "stdout",
     "output_type": "stream",
     "text": [
      "Top EV makes by savings:\n",
      " Make_EV\n",
      "Chery     37.375237\n",
      "Toyota    35.877847\n",
      "Lexus     30.961791\n",
      "Subaru    30.379654\n",
      "Tesla     27.338958\n",
      "Name: Predicted_CO2_Savings, dtype: float64\n"
     ]
    }
   ],
   "source": [
    "# Fit the gradient boosting model on the full dataset\n",
    "# X contains the features, y is the target CO2 savings\n",
    "gb_model.fit(X, y)\n",
    "\n",
    "# Use the fitted model to predict CO2 savings for each EV vs ICE comparison\n",
    "cartesian_df[\"Predicted_CO2_Savings\"] = gb_model.predict(X)\n",
    "\n",
    "\n",
    "# Environmental Impact Analysis\n",
    "# Calculate the average predicted CO2 savings by EV manufacturer\n",
    "# This shows which EV makes tend to provide the most CO2 reduction\n",
    "ev_impact = cartesian_df.groupby(\"Make_EV\")[\"Predicted_CO2_Savings\"].mean().sort_values(ascending=False)\n",
    "\n",
    "# Calculate the average predicted CO2 savings by EV body style\n",
    "# Helps identify which body styles are more efficient in reducing emissions\n",
    "bodystyle_impact = cartesian_df.groupby(\"BodyStyle_EV\")[\"Predicted_CO2_Savings\"].mean().sort_values(ascending=False)\n",
    "\n",
    "# Calculate the average predicted CO2 savings by EV release year\n",
    "# Can reveal whether newer models are generally more efficient\n",
    "year_impact = cartesian_df.groupby(\"ModelReleaseYear_EV\")[\"Predicted_CO2_Savings\"].mean().sort_values(ascending=False)\n",
    "\n",
    "# Calculate the average predicted CO2 savings based on ICE vehicle fuel type\n",
    "# Useful to see which ICE fuel types are offset the most by switching to EVs\n",
    "fueltype_impact = cartesian_df.groupby(\"FuelType_ICE\")[\"Predicted_CO2_Savings\"].mean().sort_values(ascending=False)\n",
    "\n",
    "# Print the top EV manufacturers by predicted CO2 savings\n",
    "print(\"Top EV makes by savings:\\n\", ev_impact.head())"
   ]
  },
  {
   "cell_type": "markdown",
   "id": "67d124c4-c5eb-4063-b9dd-9e13c0204f22",
   "metadata": {},
   "source": [
    "## Visualizations"
   ]
  },
  {
   "cell_type": "markdown",
   "id": "8d08b1a8-63ca-4d75-b6f8-2be1349c3ba9",
   "metadata": {},
   "source": [
    "Plots bar and line charts for savings by EV brand, body style, release year, and ICE fuel type."
   ]
  },
  {
   "cell_type": "code",
   "execution_count": 94,
   "id": "c5da42b6-86bd-43ac-b3db-22a15672efcc",
   "metadata": {},
   "outputs": [
    {
     "data": {
      "image/png": "[encoded data removed]",
      "text/plain": [
       "<Figure size 1000x600 with 1 Axes>"
      ]
     },
     "metadata": {},
     "output_type": "display_data"
    },
    {
     "data": {
      "image/png": "[encoded data removed]",
      "text/plain": [
       "<Figure size 800x500 with 1 Axes>"
      ]
     },
     "metadata": {},
     "output_type": "display_data"
    },
    {
     "data": {
      "image/png": "[encoded data removed]",
      "text/plain": [
       "<Figure size 800x500 with 1 Axes>"
      ]
     },
     "metadata": {},
     "output_type": "display_data"
    },
    {
     "data": {
      "image/png": "[encoded data removed]",
      "text/plain": [
       "<Figure size 800x500 with 1 Axes>"
      ]
     },
     "metadata": {},
     "output_type": "display_data"
    }
   ],
   "source": [
    "# EV Brand\n",
    "plt.figure(figsize=(10,6))\n",
    "ev_impact.plot(kind='bar', color='green')\n",
    "plt.title(\"Average CO₂ Savings by EV Brand\")\n",
    "plt.ylabel(\"CO₂ Savings (g/km)\")\n",
    "plt.xlabel(\"EV Brand\")\n",
    "plt.xticks(rotation=45)\n",
    "plt.tight_layout()\n",
    "plt.show()\n",
    "\n",
    "# EV Body Style\n",
    "plt.figure(figsize=(8,5))\n",
    "bodystyle_impact.plot(kind='bar', color='blue')\n",
    "plt.title(\"Average CO₂ Savings by EV Body Style\")\n",
    "plt.ylabel(\"CO₂ Savings (g/km)\")\n",
    "plt.xlabel(\"Body Style\")\n",
    "plt.tight_layout()\n",
    "plt.show()\n",
    "\n",
    "# Release Year\n",
    "plt.figure(figsize=(8,5))\n",
    "year_impact.plot(kind='line', marker='o', color='orange')\n",
    "plt.title(\"CO₂ Savings Trend by EV Release Year\")\n",
    "plt.ylabel(\"Average CO₂ Savings (g/km)\")\n",
    "plt.xlabel(\"Model Year\")\n",
    "plt.tight_layout()\n",
    "plt.show()\n",
    "\n",
    "# Fuel Type\n",
    "plt.figure(figsize=(8,5))\n",
    "fueltype_impact.plot(kind='bar', color='red')\n",
    "plt.title(\"Average CO₂ Savings by Fuel Type Replaced\")\n",
    "plt.ylabel(\"CO₂ Savings (g/km)\")\n",
    "plt.xlabel(\"Fuel Type\")\n",
    "plt.tight_layout()\n",
    "plt.show()"
   ]
  },
  {
   "cell_type": "markdown",
   "id": "72cc4eb2-30a0-41e5-bf25-c985db743e01",
   "metadata": {},
   "source": [
    "# Conclusion"
   ]
  },
  {
   "cell_type": "markdown",
   "id": "83eb1915-60b2-4d9c-b2f7-e9a6bb57345d",
   "metadata": {},
   "source": [
    "The analysis shows that replacing internal combustion engine vehicles with electric vehicles (EVs) can deliver significant CO₂ savings. Among brands, Chery, Toyota, Lexus, Subaru, and Tesla demonstrate the highest average CO₂ reductions, while sedans outperform other body styles in emissions savings. The trend by release year indicates some decline in savings for newer EV models, suggesting improvements in ICE efficiency or variations in grid emission factors. Furthermore, replacing high-emission fuels such as Petrol98 yields the greatest benefits, while Petrol95 replacement shows limited or even negative savings. Overall, the results emphasize that both EV design choices (brand, body style) and the type of fuel being displaced strongly influence environmental gains, underlining EV adoption as an impactful strategy for reducing transport-related emissions."
   ]
  },
  {
   "cell_type": "code",
   "execution_count": null,
   "id": "5baf713a-5bad-411a-ba71-8dc7255ed411",
   "metadata": {},
   "outputs": [],
   "source": []
  }
 ],
 "metadata": {
  "kernelspec": {
   "display_name": "Python [conda env:base] *",
   "language": "python",
   "name": "conda-base-py"
  },
  "language_info": {
   "codemirror_mode": {
    "name": "ipython",
    "version": 3
   },
   "file_extension": ".py",
   "mimetype": "text/x-python",
   "name": "python",
   "nbconvert_exporter": "python",
   "pygments_lexer": "ipython3",
   "version": "3.11.7"
  }
 },
 "nbformat": 4,
 "nbformat_minor": 5
}
